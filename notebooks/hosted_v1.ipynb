{
 "cells": [
  {
   "cell_type": "code",
   "execution_count": 4,
   "id": "858e7c10-613f-480f-afdd-8fa76b1a08d4",
   "metadata": {},
   "outputs": [],
   "source": [
    "import pandas as pd\n",
    "import plotly.express as px\n",
    "import ipywidgets as w\n",
    "from ipywidgets.embed import embed_minimal_html \n",
    "from ipywidgets import SelectMultiple, VBox, Output\n",
    "from IPython.display import display\n",
    "import plotly.express as px\n",
    "import warnings \n",
    "warnings.simplefilter(\"ignore\")\n",
    "\n",
    "sire_data = pd.read_csv(\"sire_data.csv\", dtype={\n",
    "    \"gini_coef\": \"float32\",\n",
    "    \"median_price\": \"float32\",\n",
    "    \"avg_price\": \"float32\",\n",
    "    \"foals_per_year\": \"float32\",\n",
    "    \"years_active\": \"int16\",\n",
    "})\n",
    "\n",
    "only_sold = pd.read_csv(\"only_sold.csv\",\n",
    "                        dtype={\"Price\": \"float32\",\n",
    "                               \"sale_year\": \"int16\"},\n",
    "                        usecols=[\"Sire\",\n",
    "                                 \"Description\",\n",
    "                                 \"Price\",\n",
    "                                 \"sale_year\",\n",
    "                                 \"Purchaser\"])"
   ]
  },
  {
   "cell_type": "markdown",
   "id": "5b96ea2e-5718-48a9-b6d5-9fcb4615990e",
   "metadata": {},
   "source": [
    "___"
   ]
  },
  {
   "cell_type": "markdown",
   "id": "01489e8f-935e-4e28-a6d0-55a0efc97547",
   "metadata": {},
   "source": [
    "## Overview\n",
    "I included 3 interactive visuals below based on Keeneland Sept Yearling sales data from 2018-2024. The first visual allows you to look at Sire performances by year - the other two have more detailed explanations. I'll do more work on individual purchasers and sellers at auctions next while also cleaning and integrating OBS breeze data. \n",
    "\n",
    "I'd like to build a model that can estimate the price of a 2yo in the OBS sale based on their breeze time along with yearling sales prices, family performance, etc. The OBS results could then be fed back into another model predicting yearling sales, which creates a constantly improving feedback loop that adjusts in real-time. \n",
    "\n",
    "[Racing Squared](https://racingsquared.com/) is an example of what's possible: they use pose estimation and computer vision to assess a horse's conformation automatically in addition to all data points I mentioned above. This is an area I've worked in before and fortunately Keeneland/OBS/etc all post walking videos of their horses, so building a similar conformation-based AI tool is do-able given time. But for now...a few visuals."
   ]
  },
  {
   "cell_type": "markdown",
   "id": "bdc90798-6892-4fd1-a7ec-76f855f513a4",
   "metadata": {},
   "source": [
    "___"
   ]
  },
  {
   "cell_type": "markdown",
   "id": "180ad230-e173-4ae0-8589-f2a3c38b468d",
   "metadata": {},
   "source": [
    "### Sire Sales Performance by Year\n",
    "- Search for a sire and select\n",
    "- Clear selections with CTRL+\"click\" or CMD+\"click\" on each sires name or by deleting the typed entry\n",
    "\n",
    "This is a little cumbersome to use, but was easiest to make quickly. You can exclude sales prices in the 95th percentile or higher using the \"Excluding...\" option in the Data filter. I would select \"Excluding...\" when looking at all data unless you specifically want to see some of the high priced outliers, otherwise the visual is compressed and uninterpretable.\n",
    "\n",
    "The \"Full\" option will be more useful when looking at individual sires. \n",
    "\n",
    "**Notes:**\n",
    "- When you highlight each box within each year you'll see a bunch of values.\n",
    "    - upper_fence/lower_fence: These basically mark the start of where true outliers begin. They fluctuate based on the data but it's safe to assume they sit somewhere around the 10th and 90th percentiles.\n",
    "    - q3: 75th percentile\n",
    "    - median: 50th percentile\n",
    "    - q1: 25th percentile"
   ]
  },
  {
   "cell_type": "code",
   "execution_count": 10,
   "id": "0d0f53c4-2b40-4155-b9b0-ce97d64d468d",
   "metadata": {},
   "outputs": [
    {
     "data": {
      "application/vnd.jupyter.widget-view+json": {
       "model_id": "ba8cbb7d203f484fb6c87e731ce5a101",
       "version_major": 2,
       "version_minor": 0
      },
      "text/plain": [
       "VBox(children=(ToggleButtons(description='Data:', options=('Excluding >95th Percentile', 'Full'), value='Exclu…"
      ]
     },
     "metadata": {},
     "output_type": "display_data"
    }
   ],
   "source": [
    "# ── build the two DataFrames up front ──────────────────────────\n",
    "full_df     = only_sold.copy()\n",
    "subset_df   = full_df[full_df.Price <= full_df.Price.quantile(.95)]\n",
    "\n",
    "# a master list of sires (covers both data sets)\n",
    "all_sires   = sorted(full_df[\"Sire\"].unique())\n",
    "\n",
    "# ── widgets ────────────────────────────────────────────────────\n",
    "data_toggle = w.ToggleButtons(\n",
    "    options=[\"Excluding >95th Percentile\", \"Full\"],\n",
    "    description=\"Data:\"\n",
    ")\n",
    "\n",
    "sire_search      = w.Text(placeholder=\"Search sire…\", layout=w.Layout(width=\"50%\"))\n",
    "sire_multiselect = w.SelectMultiple(options=all_sires, rows=8, layout=w.Layout(width=\"50%\"))\n",
    "\n",
    "fig_out = w.Output()\n",
    "\n",
    "# --------------------------------------------------------------\n",
    "def _filter_options(text_widget, multi_widget, full_list):\n",
    "    \"\"\"Live-filter the options in a SelectMultiple, keep existing selections.\"\"\"\n",
    "    pat  = text_widget.value.strip().lower()\n",
    "    keep = multi_widget.value\n",
    "    opts = [o for o in full_list if pat in o.lower()]\n",
    "    multi_widget.options = opts\n",
    "    # restore any choices that are still present after filtering\n",
    "    multi_widget.value   = tuple(o for o in keep if o in opts)\n",
    "\n",
    "sire_search.observe(\n",
    "    lambda ch: _filter_options(sire_search, sire_multiselect, all_sires),\n",
    "    names=\"value\"\n",
    ")\n",
    "\n",
    "# --------------------------------------------------------------\n",
    "def redraw(_=None):\n",
    "    # 1 choose which DataFrame to plot\n",
    "    df = subset_df if data_toggle.value.startswith(\"Excluding\") else full_df\n",
    "\n",
    "    # 2 apply the sire filter (if any)\n",
    "    if sire_multiselect.value:\n",
    "        df = df[df[\"Sire\"].isin(sire_multiselect.value)]\n",
    "\n",
    "    # 3 draw / update the figure\n",
    "    with fig_out:\n",
    "        fig_out.clear_output(wait=True)\n",
    "        px.box(\n",
    "            df, x=\"sale_year\", y=\"Price\",\n",
    "            hover_data=[\"Sire\", \"Description\", \"Purchaser\"],\n",
    "            title=\"Keeneland Sept Yearling Sales by Sire\"\n",
    "        ).show()\n",
    "\n",
    "# trigger redraw whenever a control changes\n",
    "for widg in (data_toggle, sire_multiselect):\n",
    "    widg.observe(redraw, names=\"value\")\n",
    "\n",
    "# initial plot\n",
    "redraw()\n",
    "\n",
    "# ── layout ────────────────────────────────────────────────────\n",
    "display(\n",
    "    w.VBox([\n",
    "        data_toggle,\n",
    "        w.HTML(\"<b>Sire filter</b>\"),\n",
    "        sire_search,\n",
    "        sire_multiselect,\n",
    "        fig_out\n",
    "    ])\n",
    ")"
   ]
  },
  {
   "cell_type": "markdown",
   "id": "6cab74bb-b9f2-4ab9-9037-6e4fb1407a1d",
   "metadata": {},
   "source": [
    "___"
   ]
  },
  {
   "cell_type": "markdown",
   "id": "08011083-0d4e-4bb1-92b3-95bbdffb89e4",
   "metadata": {},
   "source": [
    "**Sire Sales Performance vs Gini**\n",
    "\n",
    "\"Gini\" is traditionally used in research for things like income inequality because it captures how similar or different members of a population are from one another. A gini of 0.0 indicates the highest degree of similarity meaning all outcomes (or in this case yearling sales prices) are identical - if a sire's progeny sold in the range of 5k to 5M the sire would receive close to a 1.0 gini (extreme volatility). Conversely, a gini of 0.0 indicates zero variation for a sire's yearling prices. \n",
    "\n",
    "If a sire has a relatively high gini and a relatively low median price, that could indicate that the sire is more risky since the potential sales price is more volatile and is lower in general (see: Improbable). The opposite is true for Into Mischief whose low gini is matched by the highest median price. There's obvious bias here because high performing sires have their choice of optimal mares, but directionally I think the trend holds. If you want to see how younger sires are performing, then change the \"Years active\" slider.\n",
    "\n",
    "**Notes:**\n",
    "- I did not include \"Out\" and \"RNA\" values here which means this is skewed data. Directionally it's probably correct, but it may be the case that Blame (0.497 gini) RNAs 2x as much as Volatile (0.562 gini) potentially making Blame a less desireable option all things considered. \n",
    "- Gini is less reliable for Sires with low foal counts hence the large spread for sires under 50k - I would use a Foal count of 10 or more.\n",
    "- Many of these sires have been active for more than 7 years, but I only have data back to 2017 so this is all I can work with."
   ]
  },
  {
   "cell_type": "code",
   "execution_count": 14,
   "id": "6dbbc50c-9dd6-4657-8b02-3904c35e9833",
   "metadata": {},
   "outputs": [
    {
     "data": {
      "application/vnd.jupyter.widget-view+json": {
       "model_id": "cd03b579e2d14785a4611ce10a653990",
       "version_major": 2,
       "version_minor": 0
      },
      "text/plain": [
       "VBox(children=(HBox(children=(IntText(value=10, description='Foals per year ≥'), IntRangeSlider(value=(1, 7), …"
      ]
     },
     "metadata": {},
     "output_type": "display_data"
    }
   ],
   "source": [
    "def plot_dynamic(circle_size=\"foals_per_year\"):\n",
    "    \"\"\"\n",
    "    Interactive scatter with:\n",
    "      • x-axis  : gini_coef\n",
    "      • y-axis  : avg_price\n",
    "      • size / colour : <circle_size> column\n",
    "      • filters :\n",
    "            foals_per_year ≥ F\n",
    "            years_active between [Ymin, Ymax]\n",
    "    \"\"\"\n",
    "    # ── widgets ────────────────────────────────────────────────\n",
    "    foal_min = w.IntText(value=10, description=\"Foals per year ≥\", step=1)\n",
    "\n",
    "    yr_min, yr_max = int(sire_data.years_active.min()), int(sire_data.years_active.max())\n",
    "    year_range = w.IntRangeSlider(\n",
    "        value=[yr_min, yr_max], min=yr_min, max=yr_max, step=1,\n",
    "        description=\"Years active\",\n",
    "        continuous_update=False, layout=w.Layout(width=\"75%\")\n",
    "    )\n",
    "\n",
    "    fig_out = w.Output()\n",
    "\n",
    "    # ── redraw helper ─────────────────────────────────────────\n",
    "    def redraw(*_):\n",
    "        lo, hi = year_range.value\n",
    "        df = sire_data.loc[\n",
    "            (sire_data.foals_per_year >= foal_min.value) &\n",
    "            (sire_data.years_active.between(lo, hi))\n",
    "        ]\n",
    "        with fig_out:\n",
    "            fig_out.clear_output(wait=True)\n",
    "            px.scatter(\n",
    "                df.reset_index(),\n",
    "                x=\"gini_coef\", y=\"median_price\",\n",
    "                size=circle_size, color=circle_size,\n",
    "                hover_name=\"Sire\",\n",
    "                color_continuous_scale=\"plasma\",\n",
    "                title=\"Sire scatter (interactive thresholds)\"\n",
    "            ).show()\n",
    "\n",
    "    # update on any control change\n",
    "    foal_min.observe(redraw, names=\"value\")\n",
    "    year_range.observe(redraw, names=\"value\")\n",
    "\n",
    "    redraw()  # initial draw\n",
    "\n",
    "    # ── lay out the controls and figure ───────────────────────\n",
    "    display(w.VBox([\n",
    "        w.HBox([foal_min, year_range]),\n",
    "        fig_out\n",
    "    ]))\n",
    "\n",
    "# call the function to launch the UI\n",
    "plot_dynamic(\"foals_per_year\")        # or another column name"
   ]
  },
  {
   "cell_type": "markdown",
   "id": "e9f6c6fe-b961-447d-8a6c-227e957e70f5",
   "metadata": {},
   "source": [
    "___"
   ]
  },
  {
   "cell_type": "markdown",
   "id": "f497ca10-416a-4891-a9fe-66436391ff0d",
   "metadata": {},
   "source": [
    "### Gini vs Median Price Correlation\n",
    "\n",
    "This visual tells is meant to tell us how the relationship between gini (sales price volatility) and median price evolve over time. A positive correlation tells us that when gini goes up (i.e. volatility increases) then median price also goes up, so the two move in the same direction. Normally I would expect this relationship to be negative because more volatility would equate to a less desireable sire, and a less desireable sire would lead to lower sales prices.\n",
    "\n",
    "What's interesting is that the correlation is positive for sires in their second year. So a 2nd year crop tends to see **higher volatility present at the same time as higher prices** - i.e. buyers are taking big-time shots on horses and presumably gambling on a sire's first crop performing well as 2yo's. I would assume a sire's second crop is a highly active (and potentially highly profitable) time for good pinhookers hoping to flip at the spring breeze sales, but I would need data to back that up. \n",
    "\n",
    "**Notes:**\n",
    "1. Filter by foals >= 10 at minimum, otherwise the small sample sires distort the picture.\n",
    "2. Changing years active won't change the underlying correlations - I probably could have deleted it. \n",
    "3. Correlation statistics are inherently volatile themselves, so like the two outputs above I wouldn't interpret these too literally (yet)."
   ]
  },
  {
   "cell_type": "code",
   "execution_count": 23,
   "id": "7bbd1770-caef-4d10-9b7b-425a5974f9b4",
   "metadata": {},
   "outputs": [
    {
     "data": {
      "application/vnd.jupyter.widget-view+json": {
       "model_id": "57167f37ee314b67aefbeb4083c892a3",
       "version_major": 2,
       "version_minor": 0
      },
      "text/plain": [
       "VBox(children=(HBox(children=(IntText(value=10, description='Foal ≥', layout=Layout(width='150px')), IntRangeS…"
      ]
     },
     "metadata": {},
     "output_type": "display_data"
    }
   ],
   "source": [
    "df0 = sire_data.reset_index().copy()\n",
    "\n",
    "# ── master lists / limits ─────────────────────────────────────────────────\n",
    "yr_min, yr_max = int(df0.years_active.min()), int(df0.years_active.max())\n",
    "\n",
    "# ── widgets ───────────────────────────────────────────────────────────────\n",
    "foal_min = w.IntText(value=10, description=\"Foal ≥\", step=1,\n",
    "                     layout=w.Layout(width=\"150px\"))\n",
    "\n",
    "year_range = w.IntRangeSlider(\n",
    "    value=[yr_min, yr_max], min=yr_min, max=yr_max, step=1,\n",
    "    description=\"Years active\", continuous_update=False,\n",
    "    layout=w.Layout(width=\"70%\")\n",
    ")\n",
    "\n",
    "plot_out = w.Output()\n",
    "\n",
    "# ── helper: live-filter the SelectMultiple options list ───────────────────\n",
    "def _filter_options(text_widget, multi_widget, full_list):\n",
    "    pat = text_widget.value.strip().lower()\n",
    "    keep = multi_widget.value\n",
    "    opts = [o for o in full_list if pat in o.lower()]\n",
    "    multi_widget.options = opts\n",
    "    multi_widget.value = tuple(o for o in keep if o in opts)\n",
    "\n",
    "sire_search.observe(\n",
    "    lambda c: _filter_options(sire_search, sire_multiselect, all_sires),\n",
    "    names=\"value\"\n",
    ")\n",
    "\n",
    "# ── recompute + redraw ────────────────────────────────────────────────────\n",
    "def redraw(_=None):\n",
    "    lo, hi = year_range.value\n",
    "\n",
    "    # 1 apply filters\n",
    "    d = df0.loc[\n",
    "        (df0.foals_per_year >= foal_min.value) &\n",
    "        (df0.years_active.between(lo, hi))\n",
    "    ]\n",
    "\n",
    "    # 2 group by years_active and compute Pearson r\n",
    "    corr_by_year = (\n",
    "        d.groupby(\"years_active\")\n",
    "         .apply(lambda g: g[\"gini_coef\"].corr(g[\"median_price\"]))\n",
    "         .dropna()\n",
    "         .reset_index(name=\"corr\")\n",
    "         .sort_values(\"years_active\")\n",
    "    )\n",
    "\n",
    "    # 3 draw the line plot\n",
    "    with plot_out:\n",
    "        plot_out.clear_output(wait=True)\n",
    "        if corr_by_year.empty:\n",
    "            print(\"No data after filters.\")\n",
    "            return\n",
    "        fig = px.line(\n",
    "            corr_by_year, x=\"years_active\", y=\"corr\",\n",
    "            markers=True,\n",
    "            title=\"Correlation (gini coef ↔ median price) by years active\"\n",
    "        )\n",
    "        fig.update_layout(\n",
    "            yaxis_title=\"Correlation [-1,1]\", xaxis_title=\"Years active\",\n",
    "            yaxis=dict(range=[-1, 1])\n",
    "        )\n",
    "        fig.show()\n",
    "\n",
    "# watch every control\n",
    "for widg in (foal_min, year_range, sire_multiselect):\n",
    "    widg.observe(redraw, names=\"value\")\n",
    "\n",
    "# initial draw\n",
    "# redraw()\n",
    "\n",
    "ui = w.VBox([\n",
    "        w.HBox([foal_min, year_range]),\n",
    "        plot_out\n",
    "     ])\n",
    "\n",
    "display(ui)                 # still shows in the notebook"
   ]
  },
  {
   "cell_type": "markdown",
   "id": "a7123763-0650-4bf8-add1-c1a238bcbc38",
   "metadata": {},
   "source": [
    "___"
   ]
  }
 ],
 "metadata": {
  "kernelspec": {
   "display_name": "Python 3 (ipykernel)",
   "language": "python",
   "name": "python3"
  },
  "language_info": {
   "codemirror_mode": {
    "name": "ipython",
    "version": 3
   },
   "file_extension": ".py",
   "mimetype": "text/x-python",
   "name": "python",
   "nbconvert_exporter": "python",
   "pygments_lexer": "ipython3",
   "version": "3.11.7"
  }
 },
 "nbformat": 4,
 "nbformat_minor": 5
}
