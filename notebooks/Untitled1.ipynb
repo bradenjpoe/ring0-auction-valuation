{
 "cells": [
  {
   "cell_type": "code",
   "execution_count": 12,
   "id": "6a0df8c4-16f2-4809-a405-d90e148fa002",
   "metadata": {
    "editable": true,
    "slideshow": {
     "slide_type": ""
    },
    "tags": []
   },
   "outputs": [
    {
     "data": {
      "application/vnd.jupyter.widget-view+json": {
       "model_id": "8434b11d0bdd48ec8aadeeaac1daac77",
       "version_major": 2,
       "version_minor": 0
      },
      "text/plain": [
       "VBox(children=(ToggleButtons(description='View:', options=('Yearly Sales Data', 'Sire Performance', 'Correlati…"
      ]
     },
     "metadata": {},
     "output_type": "display_data"
    }
   ],
   "source": [
    "\n",
    "import pandas as pd\n",
    "import plotly.express as px\n",
    "import ipywidgets as w\n",
    "from IPython.display import display\n",
    "import warnings\n",
    "\n",
    "warnings.filterwarnings(\"ignore\")\n",
    "\n",
    "# ── Load data ───────────────────────────────────────────────────\n",
    "only_sold = pd.read_csv(\"only_sold.csv\")\n",
    "sire_data = pd.read_csv(\"sire_data.csv\")\n",
    "\n",
    "# ── Widgets Shared by Plots ─────────────────────────────────────\n",
    "all_sires = sorted(only_sold[\"Sire\"].unique())\n",
    "sire_search = w.Text(placeholder=\"Search sire…\", layout=w.Layout(width=\"50%\"))\n",
    "sire_multiselect = w.SelectMultiple(options=all_sires, rows=8, layout=w.Layout(width=\"50%\"))\n",
    "data_toggle = w.ToggleButtons(options=[\"Excluding >95th Percentile\", \"Full\"], description=\"Data:\")\n",
    "\n",
    "foal_min = w.IntText(value=10, description=\"Foals per year ≥\", step=1)\n",
    "yr_min, yr_max = int(sire_data.years_active.min()), int(sire_data.years_active.max())\n",
    "year_range = w.IntRangeSlider(\n",
    "    value=[yr_min, yr_max], min=yr_min, max=yr_max, step=1,\n",
    "    description=\"Years active\", layout=w.Layout(width=\"75%\")\n",
    ")\n",
    "\n",
    "# ── Plot Functions ───────────────────────────────────────────────\n",
    "def show_box_plot():\n",
    "    subset_df = only_sold[only_sold.Price <= only_sold.Price.quantile(.95)]\n",
    "    df = subset_df if data_toggle.value.startswith(\"Excluding\") else only_sold\n",
    "    if sire_multiselect.value:\n",
    "        df = df[df[\"Sire\"].isin(sire_multiselect.value)]\n",
    "\n",
    "    fig = px.box(\n",
    "        df, x=\"sale_year\", y=\"Price\",\n",
    "        hover_data=[\"Sire\", \"Description\", \"Purchaser\"],\n",
    "        title=\"Keeneland Sept Yearling Sales by Sire\"\n",
    "    )\n",
    "    fig.show()\n",
    "\n",
    "def show_scatter_plot():\n",
    "    lo, hi = year_range.value\n",
    "    df = sire_data[(sire_data.foals_per_year >= foal_min.value) &\n",
    "                   (sire_data.years_active.between(lo, hi))]\n",
    "\n",
    "    fig = px.scatter(\n",
    "        df.reset_index(), x=\"gini_coef\", y=\"median_price\",\n",
    "        size=\"foals_per_year\", color=\"foals_per_year\",\n",
    "        hover_name=\"Sire\", color_continuous_scale=\"plasma\",\n",
    "        title=\"Sire scatter (interactive thresholds)\"\n",
    "    )\n",
    "    fig.show()\n",
    "\n",
    "def show_correlation_plot():\n",
    "    lo, hi = year_range.value\n",
    "    df = sire_data[(sire_data.foals_per_year >= foal_min.value) &\n",
    "                   (sire_data.years_active.between(lo, hi))]\n",
    "\n",
    "    corr_by_year = (\n",
    "        df.groupby(\"years_active\")\n",
    "          .apply(lambda g: g[\"gini_coef\"].corr(g[\"median_price\"]))\n",
    "          .dropna()\n",
    "          .reset_index(name=\"corr\")\n",
    "          .sort_values(\"years_active\")\n",
    "    )\n",
    "\n",
    "    fig = px.line(\n",
    "        corr_by_year, x=\"years_active\", y=\"corr\",\n",
    "        markers=True,\n",
    "        title=\"Correlation (gini coef ↔ median price) by years active\"\n",
    "    )\n",
    "    fig.update_layout(yaxis_title=\"Correlation [-1,1]\", xaxis_title=\"Years active\")\n",
    "    fig.show()\n",
    "\n",
    "# ── Reactive Filtering ──────────────────────────────────────────\n",
    "def _filter_sires(_):\n",
    "    pat = sire_search.value.strip().lower()\n",
    "    keep = sire_multiselect.value\n",
    "    opts = [o for o in all_sires if pat in o.lower()]\n",
    "    sire_multiselect.options = opts\n",
    "    sire_multiselect.value = tuple(o for o in keep if o in opts)\n",
    "\n",
    "sire_search.observe(_filter_sires, names=\"value\")\n",
    "\n",
    "# ── Toggle Buttons to Switch Views ──────────────────────────────\n",
    "plot_picker = w.ToggleButtons(options=[\"Yearly Sales Data\", \"Sire Performance\", \"Correlation\"], description=\"View:\")\n",
    "plot_out = w.Output()\n",
    "\n",
    "def render_plot(change):\n",
    "    with plot_out:\n",
    "        plot_out.clear_output(wait=True)\n",
    "        if change[\"new\"] == \"Yearly Sales Data\":\n",
    "            display(w.VBox([data_toggle, w.HTML(\"<b>Sire filter</b>\"), sire_search, sire_multiselect]))\n",
    "            show_box_plot()\n",
    "        elif change[\"new\"] == \"Sire Performance\":\n",
    "            display(w.HBox([foal_min, year_range]))\n",
    "            show_scatter_plot()\n",
    "        elif change[\"new\"] == \"Correlation\":\n",
    "            display(w.HBox([foal_min, year_range]))\n",
    "            show_correlation_plot()\n",
    "\n",
    "plot_picker.observe(render_plot, names=\"value\")\n",
    "\n",
    "# ── Display Full App ────────────────────────────────────────────\n",
    "display(w.VBox([plot_picker, plot_out]))\n",
    "plot_picker.value = \"Yearly Sales Data\"\n"
   ]
  },
  {
   "cell_type": "code",
   "execution_count": null,
   "id": "0f7b867c-837b-4b51-8294-e2dd7f0d5be0",
   "metadata": {},
   "outputs": [],
   "source": []
  }
 ],
 "metadata": {
  "kernelspec": {
   "display_name": "Python 3 (ipykernel)",
   "language": "python",
   "name": "python3"
  },
  "language_info": {
   "codemirror_mode": {
    "name": "ipython",
    "version": 3
   },
   "file_extension": ".py",
   "mimetype": "text/x-python",
   "name": "python",
   "nbconvert_exporter": "python",
   "pygments_lexer": "ipython3",
   "version": "3.11.7"
  }
 },
 "nbformat": 4,
 "nbformat_minor": 5
}
